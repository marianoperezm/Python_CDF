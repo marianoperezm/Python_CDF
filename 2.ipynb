{
 "cells": [
  {
   "cell_type": "markdown",
   "metadata": {},
   "source": [
    "para el ejercicio de la biblioteca\n",
    "\n",
    "Hacer un json con todos los libros\n",
    "en el init hacer que lea el json"
   ]
  },
  {
   "cell_type": "markdown",
   "metadata": {},
   "source": [
    "jsondataai.com\n",
    "para crear json"
   ]
  }
 ],
 "metadata": {
  "language_info": {
   "name": "python"
  }
 },
 "nbformat": 4,
 "nbformat_minor": 2
}
