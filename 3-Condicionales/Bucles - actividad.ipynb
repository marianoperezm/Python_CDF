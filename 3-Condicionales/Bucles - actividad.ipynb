{
 "cells": [
  {
   "cell_type": "markdown",
   "metadata": {},
   "source": [
    "## Bucles - Actividad\n",
    "*Los ejercicios propuestos a continuación presentan autocorrección. En cada uno habrá dos bloques, uno para resolver el ejercicio y otro para testear tu solución.*\n",
    "Ejemplo:"
   ]
  },
  {
   "cell_type": "code",
   "execution_count": 6,
   "metadata": {},
   "outputs": [],
   "source": [
    "def ejemplo():\n",
    "    return \"ejemplo\""
   ]
  },
  {
   "cell_type": "code",
   "execution_count": 7,
   "metadata": {},
   "outputs": [
    {
     "name": "stdout",
     "output_type": "stream",
     "text": [
      "\u001b[92mMuy bien!\n"
     ]
    }
   ],
   "source": [
    "# TEST EJEMPLO\n",
    "\n",
    "try:\n",
    "    assert ejemplo() == \"ejemplo\", \"ejemplo() debería retornar 'ejemplo'\"\n",
    "    print('\\033[92m' + 'Muy bien!')\n",
    "except AssertionError as e:\n",
    "    print('\\033[91m' + str(e))"
   ]
  },
  {
   "cell_type": "markdown",
   "metadata": {},
   "source": [
    "1. Escribir un programa que calcule la suma de los primeros n números naturales y retorne el resultado"
   ]
  },
  {
   "cell_type": "code",
   "execution_count": 17,
   "metadata": {},
   "outputs": [
    {
     "name": "stdout",
     "output_type": "stream",
     "text": [
      "La suma de los primeros 3 números naturales es: 6\n"
     ]
    }
   ],
   "source": [
    "def ejercicio_1(n):\n",
    "    suma = 0\n",
    "    for i in range(1, n + 1):\n",
    "        suma += i\n",
    "    return suma\n",
    "\n",
    "n = int(input(\"Ingresa un número entero positivo n: \"))\n",
    "\n",
    "resultado = ejercicio_1(n)\n",
    "\n",
    "print(f\"La suma de los primeros {n} números naturales es: {resultado}\")\n"
   ]
  },
  {
   "cell_type": "code",
   "execution_count": 13,
   "metadata": {},
   "outputs": [
    {
     "name": "stdout",
     "output_type": "stream",
     "text": [
      "\u001b[92m✓ Ejercicio correcto!\n"
     ]
    }
   ],
   "source": [
    "# TEST EJERCICIO 1\n",
    "\n",
    "try:\n",
    "    assert ejercicio_1(10) == 55\n",
    "    assert ejercicio_1(5) == 15\n",
    "    print('\\033[92m' + '✓ Ejercicio correcto!')\n",
    "except AssertionError as e:\n",
    "    print('\\033[91m' + \"x Ejercicio incorrecto\")"
   ]
  },
  {
   "cell_type": "markdown",
   "metadata": {},
   "source": [
    "2. Escribe un programa que cuente cuántos números pares hay en un rango del 1 al n, **incluyendo n**.\n",
    "Debe retornar el número de números pares encontrados."
   ]
  },
  {
   "cell_type": "code",
   "execution_count": 8,
   "metadata": {},
   "outputs": [
    {
     "name": "stdout",
     "output_type": "stream",
     "text": [
      "La cantidad de números pares en el rango [1 , 10] es: 5\n"
     ]
    }
   ],
   "source": [
    "def ejercicio_2(n):\n",
    "    contador = 0\n",
    "    for i in range(1, n+1):\n",
    "        if i % 2 == 0:\n",
    "            contador +=1\n",
    "    return contador\n",
    "\n",
    "n = int(input(\"Ingrese un número entero:\"))\n",
    "\n",
    "resultado = ejercicio_2(n)\n",
    "\n",
    "print(f\"La cantidad de números pares en el rango [1 , {n}] es: {resultado}\")\n",
    "        \n"
   ]
  },
  {
   "cell_type": "code",
   "execution_count": 6,
   "metadata": {},
   "outputs": [
    {
     "name": "stdout",
     "output_type": "stream",
     "text": [
      "\u001b[92m✓ Ejercicio correcto!\n"
     ]
    }
   ],
   "source": [
    "# TEST EJERCICIO 2\n",
    "try:\n",
    "    assert ejercicio_2(10) == 5  # 2, 4, 6, 8, 10 son pares\n",
    "    assert ejercicio_2(15) == 7  # 2, 4, 6, 8, 10, 12, 14 son pares\n",
    "    print('\\033[92m' + '✓ Ejercicio correcto!')\n",
    "except AssertionError as e:\n",
    "    print('\\033[91m' + \"x Ejercicio incorrecto\")"
   ]
  },
  {
   "cell_type": "markdown",
   "metadata": {},
   "source": [
    "3. Escribe un programa que reciba una cadena de texto y cuente cuántas vocales contiene.\n",
    "Debe retornar el número total de vocales. Las vocales pueden ser mayúsculas o minúsculas."
   ]
  },
  {
   "cell_type": "code",
   "execution_count": 11,
   "metadata": {},
   "outputs": [
    {
     "name": "stdout",
     "output_type": "stream",
     "text": [
      "La cadena 'Hola, MUNDO', contiene 4 vocales\n"
     ]
    }
   ],
   "source": [
    "def ejercicio_3(texto):\n",
    "    contador = 0\n",
    "    vocales = \"aeiouAEIOU\"\n",
    "    for i in texto:\n",
    "        if i in vocales:\n",
    "            contador += 1\n",
    "    return contador\n",
    "\n",
    "texto = input(\"Escriba el texto que desee:\")\n",
    "n = ejercicio_3(texto)\n",
    "\n",
    "print(f\"La cadena '{texto}', contiene {n} vocales\")\n"
   ]
  },
  {
   "cell_type": "code",
   "execution_count": 159,
   "metadata": {},
   "outputs": [
    {
     "name": "stdout",
     "output_type": "stream",
     "text": [
      "\u001b[92m✓ Ejercicio correcto!\n"
     ]
    }
   ],
   "source": [
    "# TEST EJERCICIO 3\n",
    "try:\n",
    "    assert ejercicio_3(\"Hola, mundo\") == 4\n",
    "    assert ejercicio_3(\"AEIOUaeiou\") == 10\n",
    "    print('\\033[92m' + '✓ Ejercicio correcto!')\n",
    "except AssertionError as e:\n",
    "    print('\\033[91m' + \"x Ejercicio incorrecto\")"
   ]
  },
  {
   "cell_type": "markdown",
   "metadata": {},
   "source": [
    "4. Escribe un programa que encuentre el número más grande en una lista de números.\n",
    "Debe retornar el `'El numero mas grande es {numero}'`"
   ]
  },
  {
   "cell_type": "code",
   "execution_count": 166,
   "metadata": {},
   "outputs": [
    {
     "name": "stdout",
     "output_type": "stream",
     "text": [
      "El numero mas grande es 12\n"
     ]
    }
   ],
   "source": [
    "def ejercicio_4(lista_numeros):\n",
    "    numero_mas_grande = lista_numeros[0]\n",
    "    for numero in lista_numeros:\n",
    "        if numero > numero_mas_grande:\n",
    "            numero_mas_grande = numero\n",
    "\n",
    "    return numero_mas_grande\n",
    "\n",
    "lista_numeros = [3, 8, 1, 7, 12]\n",
    "\n",
    "num_mayor = ejercicio_4(lista_numeros)\n",
    "\n",
    "print(f\"El numero mas grande es {num_mayor}\")"
   ]
  },
  {
   "cell_type": "code",
   "execution_count": 167,
   "metadata": {},
   "outputs": [
    {
     "name": "stdout",
     "output_type": "stream",
     "text": [
      "\u001b[91mx Ejercicio incorrecto\n"
     ]
    }
   ],
   "source": [
    "# TEST EJERCICIO 4\n",
    "\n",
    "try:\n",
    "    assert ejercicio_4([3, 8, 1, 7, 12]) == 'El numero mas grande es 12'\n",
    "    assert ejercicio_4([17, 22, 4, 9, 5, 25, 10]) == 'El numero mas grande es 25'\n",
    "    print('\\033[92m' + '✓ Ejercicio correcto!')\n",
    "except AssertionError as e:\n",
    "    print('\\033[91m' + \"x Ejercicio incorrecto\")"
   ]
  },
  {
   "cell_type": "markdown",
   "metadata": {},
   "source": [
    "5. Encontrar los números primos en un rango del 1 al n, **incluyendo n**.\n",
    "Debe retornar una lista con los números primos encontrados."
   ]
  },
  {
   "cell_type": "code",
   "execution_count": 34,
   "metadata": {},
   "outputs": [
    {
     "name": "stdout",
     "output_type": "stream",
     "text": [
      "La cantidad de números primos que hay en el rango desde 1 a 10 es: [2, 3]\n"
     ]
    }
   ],
   "source": [
    "def ejercicio_5(n):\n",
    "    n_primos = []\n",
    "    primo = True\n",
    "    for num in range(2, n+1):\n",
    "        for i in range(2, int(num**0.5)+1):\n",
    "            if num % i == 0:\n",
    "                primo = False\n",
    "            break\n",
    "        if primo:\n",
    "            n_primos.append(num)\n",
    "\n",
    "    return n_primos\n",
    "\n",
    "n = int(input(\"Ingrese un número entero:\"))\n",
    "resultado = ejercicio_5(n)\n",
    "print(f\"La cantidad de números primos que hay en el rango desde 1 a {n} es: {resultado}\")"
   ]
  },
  {
   "cell_type": "code",
   "execution_count": 157,
   "metadata": {},
   "outputs": [
    {
     "name": "stdout",
     "output_type": "stream",
     "text": [
      "\u001b[91mx Ejercicio incorrecto\n"
     ]
    }
   ],
   "source": [
    "# TEST EJERCICIO 5\n",
    "\n",
    "try:\n",
    "    assert ejercicio_5(10) == [2, 3, 5, 7]\n",
    "    assert ejercicio_5(20) == [2, 3, 5, 7, 11, 13, 17, 19]\n",
    "    print('\\033[92m' + '✓ Ejercicio correcto!')\n",
    "except AssertionError as e:\n",
    "    print('\\033[91m' + \"x Ejercicio incorrecto\")"
   ]
  },
  {
   "cell_type": "markdown",
   "metadata": {},
   "source": [
    "6. Un __palíndromo__ es una palabra, número o frase que se lee igual hacia adelante que hacia atrás. Crear una funcion que reciba una cadena de texto y devuelva si dicha cadena es un palíndromo o no. *Devolver True si es un palíndromo y False si no lo es*"
   ]
  },
  {
   "cell_type": "code",
   "execution_count": 155,
   "metadata": {},
   "outputs": [
    {
     "name": "stdout",
     "output_type": "stream",
     "text": [
      "'sometemos' es un palíndromo.\n"
     ]
    }
   ],
   "source": [
    "def ejercicio_6(palabra):\n",
    "\n",
    "    palabra = palabra.lower()\n",
    "\n",
    "    palabra1 = list(palabra)\n",
    "    \n",
    "    for j in range(len(palabra1)-1, -1, -1):\n",
    "        if palabra1[j] == \" \":\n",
    "            palabra1.pop(j)\n",
    "\n",
    "    palindromo = True\n",
    "\n",
    "    for i in range(len(palabra1)//2):\n",
    "        if palabra1[i] != palabra1[-i-1]:\n",
    "            palindromo = False\n",
    "            break\n",
    "\n",
    "    return palindromo\n",
    "\n",
    "palabra = input(\"Ingrese una palabra, frase o número de dos cifras o más: \")\n",
    "resultado = ejercicio_6(palabra)\n",
    "\n",
    "if resultado:\n",
    "    print(f\"'{palabra}' es un palíndromo.\")\n",
    "else:\n",
    "    print(f\"'{palabra}' no es un palíndromo.\")"
   ]
  },
  {
   "cell_type": "code",
   "execution_count": 156,
   "metadata": {},
   "outputs": [
    {
     "name": "stdout",
     "output_type": "stream",
     "text": [
      "\u001b[92m✓ Ejercicio correcto!\n"
     ]
    }
   ],
   "source": [
    "# TEST EJERCICIO 6\n",
    "\n",
    "try:\n",
    "    assert ejercicio_6(\"sometemos\") == True\n",
    "    assert ejercicio_6(\"arenera\") == True\n",
    "    assert ejercicio_6(\"holamundo\") == False\n",
    "    assert ejercicio_6(\"python\") == False\n",
    "    assert ejercicio_6(\"reconocer\") == True\n",
    "    print('\\033[92m' + '✓ Ejercicio correcto!')\n",
    "except AssertionError as e:\n",
    "    print('\\033[91m' + \"x Ejercicio incorrecto\")\n",
    "    "
   ]
  },
  {
   "cell_type": "markdown",
   "metadata": {},
   "source": [
    "7. Dada una lista de nombres, crear una funcion que devuelva una lista con los nombres que empiezan con la letra recibida como parámetro."
   ]
  },
  {
   "cell_type": "code",
   "execution_count": 128,
   "metadata": {},
   "outputs": [
    {
     "name": "stdout",
     "output_type": "stream",
     "text": [
      "La letra elegida fue j, y los nombres que empiezan con dicha letra son: ['Juan'] \n"
     ]
    }
   ],
   "source": [
    "def ejercicio_7(letra, lista_nombres):\n",
    "    letra = letra.upper()\n",
    "    lista_final = []\n",
    "    for i in lista_nombres:\n",
    "        if i[0] == letra:\n",
    "            lista_final.append(i)\n",
    "            \n",
    "    return lista_final\n",
    "letra = input(\"Ingrese una letra\")\n",
    "lista_nombres = [\"Ana\", \"Juan\", \"Pedro\", \"Amanda\", \"Pablo\", \"Alfredo\"]\n",
    "resultado = ejercicio_7(letra, lista_nombres)\n",
    "\n",
    "print(f\"La letra elegida fue {letra}, y los nombres que empiezan con dicha letra son: {resultado} \")\n",
    "\n"
   ]
  },
  {
   "cell_type": "code",
   "execution_count": 129,
   "metadata": {},
   "outputs": [
    {
     "name": "stdout",
     "output_type": "stream",
     "text": [
      "\u001b[92m✓ Ejercicio correcto!\n"
     ]
    }
   ],
   "source": [
    "# TEST EJERCICIO 7\n",
    "\n",
    "try:\n",
    "    assert ejercicio_7(\"A\", [\"Ana\", \"Juan\", \"Pedro\", \"Amanda\", \"Pablo\", \"Alfredo\"]) == [\"Ana\", \"Amanda\", \"Alfredo\"]\n",
    "    assert ejercicio_7(\"J\", [\"Ana\", \"Juan\", \"Pedro\", \"Amanda\", \"Pablo\", \"Alfredo\"]) == [\"Juan\"]\n",
    "    assert ejercicio_7(\"P\", [\"Ana\", \"Juan\", \"Pedro\", \"Amanda\", \"Pablo\", \"Alfredo\"]) == [\"Pedro\", \"Pablo\"]\n",
    "    assert ejercicio_7(\"Z\", [\"Ana\", \"Juan\", \"Pedro\", \"Amanda\", \"Pablo\", \"Alfredo\"]) == []\n",
    "    print('\\033[92m' + '✓ Ejercicio correcto!')\n",
    "except AssertionError as e:\n",
    "    print('\\033[91m' + \"x Ejercicio incorrecto\")"
   ]
  },
  {
   "cell_type": "markdown",
   "metadata": {},
   "source": [
    "8. Crear una funcion que recibe un laberinto en forma de matriz y debe devolver la posicion de la salida del laberinto.\n",
    "\n",
    "*El laberinto es una matriz donde \"#\" representa una pared, un espacio \" \" representa un pasillo y \"S\" representa la salida*\n",
    "\n",
    "*Ejemplo:*\n",
    "\n",
    "```python\n",
    "laberinto = [[\"#\",\"#\",\"#\",\"#\",\"#\",\"#\"],\n",
    "             [\"#\",\" \",\" \",\" \",\"#\",\"#\"],\n",
    "             [\"#\",\" \",\"#\",\" \",\" \",\"#\"],\n",
    "             [\"#\",\" \",\"#\",\"#\",\" \",\"#\"],\n",
    "             [\"#\",\" \",\" \",\"#\",\" \",\"#\"],\n",
    "             [\"#\",\"#\",\"#\",\"#\",\"S\",\"#\"]]\n",
    "```\n",
    "La funcion debe recorrer elemento por elemento hasta encontrar la S y devolver la posicion de la S en forma de tupla (fila, columna).\n",
    "*Recomendación: utilizar un bucle for anidado (un for dentro de otro for) donde el primero recorra las filas y el segundo las columnas.*"
   ]
  },
  {
   "cell_type": "code",
   "execution_count": 153,
   "metadata": {},
   "outputs": [
    {
     "name": "stdout",
     "output_type": "stream",
     "text": [
      "La salida se encuentra en la posición (5, 4)\n"
     ]
    }
   ],
   "source": [
    "def ejercicio_8(laberinto):\n",
    "    for fila in range(len(laberinto)):\n",
    "        for columna in range(len(laberinto[0])):\n",
    "            if laberinto[fila][columna] == \"S\":\n",
    "                return (fila, columna)\n",
    "    \n",
    "laberinto = [[\"#\",\"#\",\"#\",\"#\",\"#\",\"#\"],\n",
    "             [\"#\",\" \",\" \",\" \",\"#\",\"#\"],\n",
    "             [\"#\",\" \",\"#\",\" \",\" \",\"#\"],\n",
    "             [\"#\",\" \",\"#\",\"#\",\" \",\"#\"],\n",
    "             [\"#\",\" \",\" \",\"#\",\" \",\"#\"],\n",
    "             [\"#\",\"#\",\"#\",\"#\",\"S\",\"#\"]]\n",
    "\n",
    "resultado = ejercicio_8(laberinto)\n",
    "print(f\"La salida se encuentra en la posición {resultado}\")"
   ]
  },
  {
   "cell_type": "code",
   "execution_count": 154,
   "metadata": {},
   "outputs": [
    {
     "name": "stdout",
     "output_type": "stream",
     "text": [
      "\u001b[92m✓ Ejercicio correcto!\n"
     ]
    }
   ],
   "source": [
    "# TEST EJERCICIO 8\n",
    "\n",
    "try:\n",
    "    assert ejercicio_8([\n",
    "        [\"#\", \"#\", \"#\", \"#\", \"#\", \"#\", \"#\", \"#\", \"#\", \"#\", \"#\", \"#\", \"#\", \"#\", \"#\", \"#\"],\n",
    "        [\"#\", \" \", \" \", \" \", \" \", \" \", \" \", \" \", \" \", \" \", \" \", \" \", \" \", \" \", \" \", \"#\"],\n",
    "        [\"#\", \" \", \"#\", \"#\", \"#\", \"#\", \"#\", \"#\", \"#\", \"#\", \" \", \"#\", \"#\", \"#\", \" \", \"#\"],\n",
    "        [\"#\", \" \", \"#\", \" \", \" \", \" \", \" \", \" \", \" \", \"#\", \" \", \"#\", \" \", \" \", \" \", \"#\"],\n",
    "        [\"#\", \" \", \"#\", \" \", \"#\", \"#\", \"#\", \"#\", \" \", \"#\", \" \", \"#\", \" \", \"#\", \"#\", \"#\"],\n",
    "        [\"#\", \" \", \"#\", \" \", \"#\", \" \", \" \", \" \", \" \", \"#\", \" \", \"#\", \" \", \" \", \" \", \"#\"],\n",
    "        [\"#\", \" \", \"#\", \" \", \"#\", \" \", \"#\", \"#\", \"#\", \"#\", \" \", \"#\", \"#\", \"#\", \" \", \"#\"],\n",
    "        [\"#\", \" \", \"#\", \" \", \"#\", \" \", \"#\", \" \", \" \", \" \", \" \", \" \", \" \", \" \", \" \", \"#\"],\n",
    "        [\"#\", \" \", \"#\", \" \", \"#\", \" \", \"#\", \" \", \"#\", \"#\", \"#\", \"#\", \"#\", \"#\", \"#\", \"#\"],\n",
    "        [\"#\", \" \", \"#\", \" \", \"#\", \" \", \"#\", \" \", \"#\", \" \", \" \", \" \", \" \", \" \", \" \", \"#\"],\n",
    "        [\"#\", \" \", \"#\", \" \", \"#\", \" \", \"#\", \" \", \"#\", \" \", \"#\", \"#\", \"#\", \"#\", \" \", \"#\"],\n",
    "        [\"#\", \" \", \"#\", \" \", \"#\", \" \", \"#\", \" \", \"#\", \" \", \" \", \" \", \" \", \"#\", \" \", \"#\"],\n",
    "        [\"#\", \" \", \"#\", \" \", \"#\", \" \", \"#\", \" \", \"#\", \"#\", \"#\", \"#\", \" \", \"#\", \" \", \"#\"],\n",
    "        [\"#\", \" \", \"#\", \" \", \"#\", \" \", \" \", \" \", \" \", \" \", \" \", \"#\", \" \", \"#\", \" \", \"#\"],\n",
    "        [\"#\", \" \", \"#\", \" \", \"#\", \"#\", \"#\", \"#\", \"#\", \"#\", \"#\", \"#\", \" \", \"#\", \" \", \"#\"],\n",
    "        [\"#\", \" \", \" \", \" \", \" \", \" \", \" \", \" \", \" \", \" \", \" \", \" \", \" \", \"#\", \" \", \"#\"],\n",
    "        [\"#\", \"#\", \"#\", \"#\", \"#\", \"#\", \"#\", \"#\", \"#\", \"#\", \"#\", \"#\", \"#\", \"#\", \"S\", \"#\"]\n",
    "    ]) == (16, 14)\n",
    "    print('\\033[92m' + '✓ Ejercicio correcto!')\n",
    "except AssertionError as e:\n",
    "    print('\\033[91m' + \"x Ejercicio incorrecto\")\n",
    "    "
   ]
  }
 ],
 "metadata": {
  "kernelspec": {
   "display_name": "Python 3",
   "language": "python",
   "name": "python3"
  },
  "language_info": {
   "codemirror_mode": {
    "name": "ipython",
    "version": 3
   },
   "file_extension": ".py",
   "mimetype": "text/x-python",
   "name": "python",
   "nbconvert_exporter": "python",
   "pygments_lexer": "ipython3",
   "version": "3.9.13"
  }
 },
 "nbformat": 4,
 "nbformat_minor": 2
}
