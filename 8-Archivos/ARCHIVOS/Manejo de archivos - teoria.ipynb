{
 "cells": [
  {
   "cell_type": "markdown",
   "metadata": {},
   "source": [
    "# <center>**08 - MANEJO DE ARCHIVOS**</center>"
   ]
  },
  {
   "cell_type": "markdown",
   "metadata": {},
   "source": [
    "En python se pueden controlar distintos tipos de archivos. Podemos crearlos, leerlos, escribirlos, modificarlos, etc. Esto nos permite trabajar con datos de distintas fuentes, como archivos de texto, archivos de audio, archivos de video, bases de datos, etc."
   ]
  },
  {
   "cell_type": "markdown",
   "metadata": {},
   "source": [
    "## 1. Apertura de archivos\n",
    "\n",
    "Para abrir un archivo en python se utiliza la función `open()`. Esta función recibe dos parámetros: el nombre del archivo y el modo de apertura. El modo de apertura puede ser de lectura, escritura o ambos. El modo de apertura se indica con una letra:\n",
    "\n",
    "* `r`: modo de lectura.\n",
    "* `w`: modo de escritura.\n",
    "* `a`: modo de escritura, pero agregando el contenido al final del archivo.\n",
    "* `r+`: modo de lectura y escritura.\n",
    "\n",
    "Por defecto, si no se indica el modo de apertura, se asume que es de lectura."
   ]
  },
  {
   "cell_type": "code",
   "execution_count": 1,
   "metadata": {},
   "outputs": [],
   "source": [
    "archivo = open(\"texto.txt\", \"r\")"
   ]
  },
  {
   "cell_type": "markdown",
   "metadata": {},
   "source": [
    "Una vez abierto el archivo, se puede leer o escribir en él. Para ello, se utilizan los métodos `read()` y `write()`. El método `read()` lee todo el contenido del archivo y lo devuelve como un string. El método `write()` escribe el string que recibe como parámetro en el archivo."
   ]
  },
  {
   "cell_type": "code",
   "execution_count": 2,
   "metadata": {},
   "outputs": [
    {
     "name": "stdout",
     "output_type": "stream",
     "text": [
      "Hola Mundo\n",
      "Agregando texto al archivo\n"
     ]
    }
   ],
   "source": [
    "contenido = archivo.read()\n",
    "print(contenido)"
   ]
  },
  {
   "cell_type": "markdown",
   "metadata": {},
   "source": [
    "Siempre al finalizar el trabajo con un archivo, se debe cerrar. Para ello, se utiliza el método `close()`."
   ]
  },
  {
   "cell_type": "code",
   "execution_count": null,
   "metadata": {},
   "outputs": [],
   "source": [
    "archivo.close()"
   ]
  },
  {
   "cell_type": "markdown",
   "metadata": {},
   "source": [
    "Recordar que para escribir en un archivo, este debe haber sido abierto en modo de escritura. Si se intenta escribir en un archivo abierto en modo de lectura, se producirá un error."
   ]
  },
  {
   "cell_type": "code",
   "execution_count": 5,
   "metadata": {},
   "outputs": [],
   "source": [
    "archivo = open(\"texto.txt\", \"a\")\n",
    "archivo.write(\"\\nOtra linea\")\n",
    "archivo.close()"
   ]
  },
  {
   "cell_type": "markdown",
   "metadata": {},
   "source": [
    "Cuando se abre un archivo, se crea un objeto de tipo `file`. Este objeto tiene distintos métodos que permiten trabajar con el archivo. Algunos de estos métodos son:\n",
    "\n",
    "* `read()`: lee todo el contenido del archivo y lo devuelve como un string.\n",
    "* `readline()`: lee una línea del archivo.\n",
    "* `readlines()`: lee todas las líneas del archivo y las devuelve como una lista de strings.\n",
    "* `write()`: escribe el string que recibe como parámetro en el archivo.\n",
    "* `writelines()`: escribe los strings que recibe como parámetro en el archivo. Recibe una lista de strings.\n",
    "* `close()`: cierra el archivo."
   ]
  },
  {
   "cell_type": "code",
   "execution_count": 9,
   "metadata": {},
   "outputs": [
    {
     "name": "stdout",
     "output_type": "stream",
     "text": [
      "['Hola Mundo\\n', 'Agregando texto al archivo\\n', 'Otra linea']\n"
     ]
    }
   ],
   "source": [
    "archivo = open(\"texto.txt\",\"r\")\n",
    "contenido = archivo.readlines()\n",
    "print(contenido)\n",
    "archivo.close()"
   ]
  },
  {
   "cell_type": "markdown",
   "metadata": {},
   "source": [
    "## 2. Otro método para abrir archivos\n",
    "\n",
    "Otra forma de abrir un archivo es utilizando la sentencia `with`. Esta sentencia permite abrir un archivo, trabajar con él y cerrarlo automáticamente al finalizar. La sintaxis es la siguiente:"
   ]
  },
  {
   "cell_type": "code",
   "execution_count": 10,
   "metadata": {},
   "outputs": [
    {
     "name": "stdout",
     "output_type": "stream",
     "text": [
      "Hola Mundo\n",
      "Agregando texto al archivo\n",
      "Otra linea\n"
     ]
    }
   ],
   "source": [
    "with open(\"texto.txt\", \"r\") as archivo:\n",
    "    contenido = archivo.read()\n",
    "    print(contenido)"
   ]
  },
  {
   "cell_type": "markdown",
   "metadata": {},
   "source": [
    "Esta alternativa es muy útil, ya que nos aseguramos que el archivo se cierre correctamente, incluso si ocurre un error durante el procesamiento."
   ]
  },
  {
   "cell_type": "markdown",
   "metadata": {},
   "source": [
    "## 3. Apertura de imágenes\n",
    "\n",
    "Para trabajar con imágenes, se utiliza la librería `PIL`. Esta librería permite abrir imágenes en distintos formatos, como `jpg`, `png`, `gif`, etc. Para utilizar esta librería, primero se debe instalar. Para ello, se debe ejecutar el siguiente comando en la consola:\n",
    "\n",
    "`pip install pillow`\n",
    "\n",
    "Una vez instalada la librería, se puede utilizar. Para ello, primero se debe importar:"
   ]
  },
  {
   "cell_type": "code",
   "execution_count": 2,
   "metadata": {},
   "outputs": [],
   "source": [
    "from PIL import Image\n",
    "\n",
    "imagen = Image.open(\"imagen.png\")\n",
    "imagen.show()"
   ]
  },
  {
   "cell_type": "markdown",
   "metadata": {},
   "source": [
    "Otra libreria para abrir imagenes es `opencv`:\n",
    "\n",
    "`pip install opencv-python`"
   ]
  },
  {
   "cell_type": "code",
   "execution_count": 3,
   "metadata": {},
   "outputs": [],
   "source": [
    "import cv2\n",
    "\n",
    "imagen = cv2.imread(\"imagen.png\")\n",
    "cv2.imshow(\"Imagen\", imagen)\n",
    "cv2.waitKey(0)\n",
    "cv2.destroyAllWindows()\n",
    "\n",
    "#Python image preview (extensión)"
   ]
  },
  {
   "cell_type": "code",
   "execution_count": 4,
   "metadata": {},
   "outputs": [
    {
     "ename": "AttributeError",
     "evalue": "module 'matplotlib' has no attribute 'imread'",
     "output_type": "error",
     "traceback": [
      "\u001b[1;31m---------------------------------------------------------------------------\u001b[0m",
      "\u001b[1;31mAttributeError\u001b[0m                            Traceback (most recent call last)",
      "\u001b[1;32mc:\\Users\\CASA DEL FUTURO\\Desktop\\git Mariano\\Python_CDF\\8-Archivos\\ARCHIVOS\\Manejo de archivos - teoria.ipynb Cell 20\u001b[0m line \u001b[0;36m2\n\u001b[0;32m      <a href='vscode-notebook-cell:/c%3A/Users/CASA%20DEL%20FUTURO/Desktop/git%20Mariano/Python_CDF/8-Archivos/ARCHIVOS/Manejo%20de%20archivos%20-%20teoria.ipynb#X25sZmlsZQ%3D%3D?line=0'>1</a>\u001b[0m \u001b[39mimport\u001b[39;00m \u001b[39mmatplotlib\u001b[39;00m \u001b[39mas\u001b[39;00m \u001b[39mplt\u001b[39;00m\n\u001b[1;32m----> <a href='vscode-notebook-cell:/c%3A/Users/CASA%20DEL%20FUTURO/Desktop/git%20Mariano/Python_CDF/8-Archivos/ARCHIVOS/Manejo%20de%20archivos%20-%20teoria.ipynb#X25sZmlsZQ%3D%3D?line=1'>2</a>\u001b[0m imagen\u001b[39m=\u001b[39m plt\u001b[39m.\u001b[39;49m imread(\u001b[39m\"\u001b[39m\u001b[39mimagen.png\u001b[39m\u001b[39m\"\u001b[39m)\n\u001b[0;32m      <a href='vscode-notebook-cell:/c%3A/Users/CASA%20DEL%20FUTURO/Desktop/git%20Mariano/Python_CDF/8-Archivos/ARCHIVOS/Manejo%20de%20archivos%20-%20teoria.ipynb#X25sZmlsZQ%3D%3D?line=2'>3</a>\u001b[0m plt\u001b[39m.\u001b[39mimshow(imagen)\n\u001b[0;32m      <a href='vscode-notebook-cell:/c%3A/Users/CASA%20DEL%20FUTURO/Desktop/git%20Mariano/Python_CDF/8-Archivos/ARCHIVOS/Manejo%20de%20archivos%20-%20teoria.ipynb#X25sZmlsZQ%3D%3D?line=3'>4</a>\u001b[0m plt\u001b[39m.\u001b[39minshow\n",
      "File \u001b[1;32mc:\\Users\\CASA DEL FUTURO\\AppData\\Local\\Programs\\Python\\Python312\\Lib\\site-packages\\matplotlib\\_api\\__init__.py:217\u001b[0m, in \u001b[0;36mcaching_module_getattr.<locals>.__getattr__\u001b[1;34m(name)\u001b[0m\n\u001b[0;32m    215\u001b[0m \u001b[39mif\u001b[39;00m name \u001b[39min\u001b[39;00m props:\n\u001b[0;32m    216\u001b[0m     \u001b[39mreturn\u001b[39;00m props[name]\u001b[39m.\u001b[39m\u001b[39m__get__\u001b[39m(instance)\n\u001b[1;32m--> 217\u001b[0m \u001b[39mraise\u001b[39;00m \u001b[39mAttributeError\u001b[39;00m(\n\u001b[0;32m    218\u001b[0m     \u001b[39mf\u001b[39m\u001b[39m\"\u001b[39m\u001b[39mmodule \u001b[39m\u001b[39m{\u001b[39;00m\u001b[39mcls\u001b[39m\u001b[39m.\u001b[39m\u001b[39m__module__\u001b[39m\u001b[39m!r}\u001b[39;00m\u001b[39m has no attribute \u001b[39m\u001b[39m{\u001b[39;00mname\u001b[39m!r}\u001b[39;00m\u001b[39m\"\u001b[39m)\n",
      "\u001b[1;31mAttributeError\u001b[0m: module 'matplotlib' has no attribute 'imread'"
     ]
    }
   ],
   "source": [
    "import matplotlib.python as plt\n",
    "imagen= plt. imread(\"imagen.png\")\n",
    "plt.imshow(imagen)\n",
    "plt.inshow"
   ]
  },
  {
   "cell_type": "markdown",
   "metadata": {},
   "source": [
    "## 4. Apertura de archivos de audio\n",
    "\n",
    "Para trabajar con archivos de audio, se utiliza la librería `playsound`. Esta librería permite abrir archivos de audio en distintos formatos, como `mp3`, `wav`, `ogg`, etc. Para utilizar esta librería, primero se debe instalar. Para ello, se debe ejecutar el siguiente comando en la consola:\n",
    "\n",
    "`pip install playsound`"
   ]
  },
  {
   "cell_type": "code",
   "execution_count": 3,
   "metadata": {},
   "outputs": [
    {
     "ename": "ModuleNotFoundError",
     "evalue": "No module named 'playsound'",
     "output_type": "error",
     "traceback": [
      "\u001b[1;31m---------------------------------------------------------------------------\u001b[0m",
      "\u001b[1;31mModuleNotFoundError\u001b[0m                       Traceback (most recent call last)",
      "\u001b[1;32mc:\\Users\\CASA DEL FUTURO\\Desktop\\git Mariano\\Python_CDF\\8-Archivos\\ARCHIVOS\\Manejo de archivos - teoria.ipynb Cell 22\u001b[0m line \u001b[0;36m1\n\u001b[1;32m----> <a href='vscode-notebook-cell:/c%3A/Users/CASA%20DEL%20FUTURO/Desktop/git%20Mariano/Python_CDF/8-Archivos/ARCHIVOS/Manejo%20de%20archivos%20-%20teoria.ipynb#X26sZmlsZQ%3D%3D?line=0'>1</a>\u001b[0m \u001b[39mfrom\u001b[39;00m \u001b[39mplaysound\u001b[39;00m \u001b[39mimport\u001b[39;00m playsound\n\u001b[0;32m      <a href='vscode-notebook-cell:/c%3A/Users/CASA%20DEL%20FUTURO/Desktop/git%20Mariano/Python_CDF/8-Archivos/ARCHIVOS/Manejo%20de%20archivos%20-%20teoria.ipynb#X26sZmlsZQ%3D%3D?line=2'>3</a>\u001b[0m playsound(\u001b[39m\"\u001b[39m\u001b[39maudio.mp3\u001b[39m\u001b[39m\"\u001b[39m)\n",
      "\u001b[1;31mModuleNotFoundError\u001b[0m: No module named 'playsound'"
     ]
    }
   ],
   "source": [
    "from playsound import playsound\n",
    "\n",
    "playsound(\"audio.mp3\")"
   ]
  },
  {
   "cell_type": "markdown",
   "metadata": {},
   "source": [
    "## 5. Apertura de archivos en formato CSV\n",
    "\n",
    "Para trabajar con archivos en formato CSV, se utiliza la librería `csv`. Esta librería permite abrir archivos en formato CSV y leerlos o escribirlos."
   ]
  },
  {
   "cell_type": "code",
   "execution_count": 8,
   "metadata": {},
   "outputs": [
    {
     "name": "stdout",
     "output_type": "stream",
     "text": [
      "['Lucas', '1234']\n",
      "['Maria', 'M334']\n",
      "['Ana', 'A456A']\n",
      "['Agustin', '98AJ']\n"
     ]
    }
   ],
   "source": [
    "from csv import reader\n",
    "\n",
    "with open(\"archivo.csv\", \"r\") as archivo:\n",
    "    contenido = reader(archivo)\n",
    "    \n",
    "    for linea in contenido:\n",
    "        if linea[0] == \"Usuarios\":\n",
    "           continue\n",
    "        print(linea)"
   ]
  },
  {
   "cell_type": "code",
   "execution_count": 10,
   "metadata": {},
   "outputs": [],
   "source": [
    "from csv import writer\n",
    "\n",
    "with open(\"archivo.csv\", \"r\") as archivo:\n",
    "    contenido_actual = list(reader(archivo))\n",
    "\n",
    "with open(\"archivo.csv\", \"w\", newline='') as archivo:\n",
    "    contenido = writer(archivo)\n",
    "    contenido.writerows(contenido_actual)\n",
    "    contenido.writerow([\"Pedro\", \"PPPP\"])\n",
    "    contenido.writerow([\"Eugenia\", \"7990\"])\n",
    "    "
   ]
  },
  {
   "cell_type": "markdown",
   "metadata": {},
   "source": [
    "## 6. Apertura/escritura de archivos JSON\n",
    "\n",
    "Para trabajar con archivos en formato JSON, se utiliza la librería `json`. Esta librería permite abrir archivos en formato JSON y leerlos o escribirlos."
   ]
  },
  {
   "cell_type": "code",
   "execution_count": 38,
   "metadata": {},
   "outputs": [
    {
     "name": "stdout",
     "output_type": "stream",
     "text": [
      "['Mouse', 'Teclado', 'Monitor', 'Parlantes', 'Mouse', 'Parlantes', 'Monitor', 'Auriculares', 'Impresora']\n",
      "Total a pagar: $ 11500\n",
      "{'Mouse': 2, 'Teclado': 1, 'Monitor': 2, 'Parlantes': 2, 'Auriculares': 1, 'Impresora': 1}\n"
     ]
    }
   ],
   "source": [
    "import json\n",
    "\n",
    "pedidos = {\n",
    "    \"pedidos\":[\n",
    "        {\n",
    "            \"id\": 1,\n",
    "            \"nombre\": \"Juan\",\n",
    "            \"productos\": [\"Mouse\", \"Teclado\"]\n",
    "        },\n",
    "        {\n",
    "            \"id\": 2,\n",
    "            \"nombre\": \"Ana\",\n",
    "            \"productos\": [\"Monitor\", \"Parlantes\"]\n",
    "        },\n",
    "        {\n",
    "            \"id\": 3,\n",
    "            \"nombre\": \"Carlos\",\n",
    "            \"productos\": [\"Mouse\", \"Parlantes\"]\n",
    "        }\n",
    "    ]\n",
    "}\n",
    "\n",
    "# with open(\"pedidos.json\", \"w\") as archivo:\n",
    "#     json.dump(pedidos, archivo, indent=4)\n",
    "    \n",
    "with open(\"pedidos.json\", \"r\") as archivo:\n",
    "    pedidos_json = json.load(archivo)\n",
    "\n",
    "# print(pedidos_json)\n",
    "\n",
    "pedidos_proveedor = []\n",
    "\n",
    "for pedido in pedidos_json[\"pedidos\"]:\n",
    "    # print(pedido[\"productos\"])\n",
    "    pedidos_proveedor.extend(pedido[\"productos\"])\n",
    "\n",
    "print(pedidos_proveedor)\n",
    "\n",
    "precios = {\"Auriculares\": 5000, \"Monitor\": 2000, \"Mouse\": 7500, \"Teclado\": 4000}\n",
    "\n",
    "total = 0\n",
    "for producto in pedidos_json[\"pedidos\"][0][\"productos\"]:\n",
    "    if producto in precios:\n",
    "        total += precios[producto]\n",
    "        \n",
    "print(\"Total a pagar: $\",total)\n",
    "\n",
    "compra = {}\n",
    "\n",
    "for producto in pedidos_proveedor:\n",
    "    if producto in compra:\n",
    "        compra[producto] += 1\n",
    "    else:\n",
    "        compra[producto]= 1\n",
    "\n",
    "print(compra)"
   ]
  }
 ],
 "metadata": {
  "kernelspec": {
   "display_name": "Python 3",
   "language": "python",
   "name": "python3"
  },
  "language_info": {
   "codemirror_mode": {
    "name": "ipython",
    "version": 3
   },
   "file_extension": ".py",
   "mimetype": "text/x-python",
   "name": "python",
   "nbconvert_exporter": "python",
   "pygments_lexer": "ipython3",
   "version": "3.12.0"
  }
 },
 "nbformat": 4,
 "nbformat_minor": 2
}
