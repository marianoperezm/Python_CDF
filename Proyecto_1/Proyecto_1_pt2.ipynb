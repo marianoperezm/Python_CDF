{
 "cells": [
  {
   "cell_type": "markdown",
   "metadata": {},
   "source": [
    "# <center>**Proyectos - Parte 2**</center>"
   ]
  },
  {
   "cell_type": "markdown",
   "metadata": {},
   "source": [
    "# Proyectos - Parte 2\n",
    "\n",
    "Ya en la etapa final del curso, tenemos el conocimiento necesario para afrontar desafíos más complejos. Desde variables y tipos de datos hasta Programación Orientada a Objetos, hemos aprendido a trabajar y entender Python, como actividad final, haremos un juego (por consola) del estilo RPG, donde tienen que utilizar todo lo aprendido.\n",
    "\n",
    "El juego debe tener las siguientes características:\n",
    "\n",
    "1. **Clases de Personajes:**\n",
    "    - Guerrero\n",
    "    - Mago\n",
    "    - Arquero\n",
    "    - Asesino\n",
    "    \n",
    "    Estas clases deben heredar de una clase padre llamada **Personaje**\n",
    "    \n",
    "2. **Atributos de Personaje:**\n",
    "    - Nombre\n",
    "    - Vida\n",
    "    - Ataque\n",
    "    - Defensa\n",
    "    - Inteligencia\n",
    "    - Agilidad\n",
    "    - Fuerza\n",
    "    \n",
    "    Pueden incluir nuevos atributos de ser necesario.\n",
    "    \n",
    "3. **Métodos de Ataque:**\n",
    "    - El juego debe contener al menos 2 armas exclusivas para cada clase.\n",
    "    - Implementa un método de ataque para cada clase que calcule el daño infligido al enemigo, teniendo en cuenta la defensa del enemigo, y los atributos propios del personaje, es decir:\n",
    "        - Guerrero (influye su fuerza y su ataque base + ataque del arma)\n",
    "        - Mago (influye su inteligencia y su ataque base + ataque del arma)\n",
    "        - Arquero (influye su agilidad y su ataque base + ataque del arma)\n",
    "        - Asesino (influye su agilidad e inteligencia, y su ataque base + ataque del arma)\n",
    "    - Los ataques deberán ser controlados mediante un sistema de turnos, en el cual el personaje con mayor agilidad será el primero en atacar.\n",
    "    - Cualquier mecánica adicional es bienvenida.\n",
    "4. **Enemigos:**\n",
    "    - Crea cuatro tipos de enemigos correspondientes a las clases de personajes, pero con un nombre diferente. Uno de los enemigos debe tener la capacidad de volar (pueden utilizar herencia múltiple para esto), lo cual le da la ventaja de esquivar algunos ataques.\n",
    "5. **Mecánica de Juego:**\n",
    "    - El jugador debe seleccionar su clase y empieza el juego, debe iniciar con estadísticas base.\n",
    "    - Cada partida tendrá una duración establecida por ustedes, deben producirse al menos 4 encuentros\n",
    "    - Considera la posibilidad de que uno de los enemigos pueda volar, haciéndolo más difícil de alcanzar."
   ]
  }
 ],
 "metadata": {
  "language_info": {
   "name": "python"
  }
 },
 "nbformat": 4,
 "nbformat_minor": 2
}
